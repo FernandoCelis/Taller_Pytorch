{
 "cells": [
  {
   "cell_type": "markdown",
   "metadata": {},
   "source": [
    "### Salvar y guardar modelos en Pytorch"
   ]
  },
  {
   "cell_type": "markdown",
   "metadata": {},
   "source": [
    "Cuando se trata de guardar y cargar modelos, hay tres funciones básicas con las que debe estar familiarizado:\n",
    "\n",
    "`torch.save`: Guarda un objeto serializado en el disco. Esta función utiliza la utilidad pickle de Python para la serialización. Con esta función se pueden guardar modelos, tensores y diccionarios de todo tipo de objetos.\n",
    "\n",
    "`torch.load`: Permite cargar y restaurar tensores, modelos, optimizadores y otros objetos de PyTorch desde archivos guardados en disco.\n",
    "\n",
    "`torch.nn.Module.load_state_dict`: Carga el diccionario de parámetros de un modelo utilizando un state_dict deserializado."
   ]
  },
  {
   "cell_type": "code",
   "execution_count": null,
   "metadata": {},
   "outputs": [],
   "source": [
    "import torch\n",
    "from torch import nn\n",
    "from torch.utils.data import DataLoader\n",
    "from torchvision import datasets \n",
    "from torchvision.transforms import ToTensor\n",
    "import matplotlib.pyplot as plt\n",
    "import shutil#shell utils\n",
    "import numpy as np\n",
    "import os"
   ]
  },
  {
   "cell_type": "code",
   "execution_count": null,
   "metadata": {},
   "outputs": [],
   "source": [
    "# Download training data from open datasets.\n",
    "training_data = datasets.FashionMNIST(\n",
    "    root=\"data\",\n",
    "    train=True,\n",
    "    download=True,\n",
    "    transform=ToTensor(),\n",
    ")\n",
    "\n",
    "# Download test data from open datasets.\n",
    "test_data = datasets.FashionMNIST(\n",
    "    root=\"data\",\n",
    "    train=False,\n",
    "    download=True,\n",
    "    transform=ToTensor(),\n",
    ")\n",
    "\n",
    "\n",
    "print(f\"Amount of training data: {len(training_data.targets)}, and test data: {len(test_data.targets)}\")\n",
    "\n",
    "batch_size = 64\n",
    "train_dataloader = DataLoader(training_data, batch_size=batch_size)\n",
    "test_dataloader = DataLoader(test_data, batch_size=batch_size)"
   ]
  },
  {
   "cell_type": "code",
   "execution_count": null,
   "metadata": {},
   "outputs": [],
   "source": [
    "labels_map = {\n",
    "    0: \"T-Shirt\",\n",
    "    1: \"Trouser\",\n",
    "    2: \"Pullover\",\n",
    "    3: \"Dress\",\n",
    "    4: \"Coat\",\n",
    "    5: \"Sandal\",\n",
    "    6: \"Shirt\",\n",
    "    7: \"Sneaker\",\n",
    "    8: \"Bag\",\n",
    "    9: \"Ankle Boot\",\n",
    "}\n",
    "figure = plt.figure(figsize=(8, 8))\n",
    "cols, rows = 3, 3\n",
    "for i in range(1, cols * rows + 1):\n",
    "    sample_idx = torch.randint(len(training_data), size=(1,)).item()\n",
    "    img, label = training_data[sample_idx]\n",
    "    figure.add_subplot(rows, cols, i)\n",
    "    plt.title(labels_map[label])\n",
    "    plt.axis(\"off\")\n",
    "    plt.imshow(img.squeeze(), cmap=\"gray\")\n",
    "plt.show()"
   ]
  },
  {
   "cell_type": "code",
   "execution_count": null,
   "metadata": {},
   "outputs": [],
   "source": [
    "device = \"cuda\" if torch.cuda.is_available() else \"cpu\"\n",
    "print(f\"Running on: {device} device\")\n",
    "\n",
    "#Defining the model\n",
    "class NeuralNetwork(nn.Module):\n",
    "  def __init__(self):\n",
    "    super(NeuralNetwork, self).__init__()\n",
    "    self.flatten = nn.Flatten()\n",
    "    self.linear_relu_stack = nn.Sequential(nn.Linear(in_features=28*28, out_features=512),\n",
    "                                           nn.ReLU(),\n",
    "                                           nn.Linear(512, 512),\n",
    "                                           nn.ReLU(),\n",
    "                                           nn.Linear(512, 10))\n",
    "    \n",
    "  def forward(self, x):\n",
    "    x = self.flatten(x)\n",
    "    logits = self.linear_relu_stack(x)\n",
    "    return logits"
   ]
  },
  {
   "cell_type": "code",
   "execution_count": null,
   "metadata": {},
   "outputs": [],
   "source": [
    "model = NeuralNetwork().to(device)\n",
    "print(model)\n",
    "loss_fn = nn.CrossEntropyLoss()\n",
    "optimizer = torch.optim.SGD(model.parameters(), lr=1e-3)\n",
    "\n",
    "#training \n",
    "def training(model, dataloader, loss_fn, optimizer):\n",
    "  size = len(dataloader.dataset)#actual dataset size\n",
    "  model.train()\n",
    "  for batch_id, (X, y) in enumerate(dataloader):\n",
    "    X, y = X.to(device), y.to(device)\n",
    "    \n",
    "    #getting the class predictions\n",
    "    pred = model(X)\n",
    "    #computing the loss\n",
    "    loss = loss_fn(pred, y)\n",
    "\n",
    "    # weights update\n",
    "    optimizer.zero_grad() # to \"clean\" the gradients memory\n",
    "    loss.backward() # chain rule \n",
    "    optimizer.step() # weights updating\n",
    "\n",
    "    if batch_id % 100 == 0:\n",
    "      loss, current_sample = loss.item(), batch_id*len(X)\n",
    "      print(f\"loss: {loss:>3f} [{current_sample:>5d}/{size:>5d}]\")\n",
    "\n",
    "#test loop\n",
    "def test(model, dataloader, loss_fn):\n",
    "  size = len(dataloader.dataset)#amount of available data\n",
    "  num_batches = len(dataloader) \n",
    "  model.eval()#avoid the model learning\n",
    "  test_loss, correct = 0, 0\n",
    "  # no gradients calculation\n",
    "  with torch.no_grad():\n",
    "    for X, y in dataloader:\n",
    "      X, y = X.to(device), y.to(device)\n",
    "      #get the predictions\n",
    "      pred = model(X)\n",
    "      #computing the loss \n",
    "      test_loss += loss_fn(pred, y).item() #Returns the value of this tensor as a standard Python number\n",
    "      correct += (pred.argmax(1)==y).type(torch.float).sum().item()\n",
    "  \n",
    "  test_loss /= num_batches\n",
    "  correct /= size\n",
    "  acc = 100*correct\n",
    "  print(f\"Test error: \\n Acc: {(acc):>0.1f}%, avg loss: {test_loss:>8f}\\n\")\n"
   ]
  },
  {
   "cell_type": "code",
   "execution_count": null,
   "metadata": {},
   "outputs": [],
   "source": [
    "epochs = 5\n",
    "for i in range(epochs):\n",
    "  print(f\"Epoch {i+1}\\n ---------------------------\")\n",
    "  training(model, train_dataloader, loss_fn, optimizer)\n",
    "  test(model, test_dataloader, loss_fn)\n",
    "print(\"done\")"
   ]
  },
  {
   "cell_type": "code",
   "execution_count": null,
   "metadata": {},
   "outputs": [],
   "source": [
    "model.state_dict()"
   ]
  },
  {
   "cell_type": "markdown",
   "metadata": {},
   "source": [
    "¿Qué es un estado_dict?\n",
    "En PyTorch, los parámetros aprendibles (es decir, pesos y sesgos) de un modelo torch.nn.Module están contenidos en los parámetros del modelo (a los que se accede con model.parameters()). Un state_dict es simplemente un objeto diccionario de Python que asigna cada capa a su tensor de parámetros. Tenga en cuenta que sólo las capas con parámetros aprendibles (capas convolucionales, capas lineales, etc.) tienen entradas en el state_dict del modelo. Los objetos optimizadores (torch.optim) también tienen un state_dict, que contiene información sobre el estado del optimizador, así como los hiperparámetros utilizados.\n",
    "\n",
    "Debido a que los objetos state_dict son diccionarios de Python, pueden ser fácilmente guardados, actualizados, alterados y restaurados, añadiendo una gran modularidad a los modelos y optimizadores de PyTorch.\n",
    "\n"
   ]
  },
  {
   "cell_type": "code",
   "execution_count": null,
   "metadata": {},
   "outputs": [],
   "source": [
    "print(\"Model's state_dict:\")\n",
    "for param_tensor in model.state_dict():\n",
    "    print(param_tensor, \"\\t\", model.state_dict()[param_tensor].size())\n",
    "\n",
    "# Print optimizer's state_dict\n",
    "print(\"Optimizer's state_dict:\")\n",
    "for var_name in optimizer.state_dict():\n",
    "    print(var_name, \"\\t\", optimizer.state_dict()[var_name])"
   ]
  },
  {
   "cell_type": "markdown",
   "metadata": {},
   "source": [
    "`torch.save(model, PATH)`"
   ]
  },
  {
   "cell_type": "code",
   "execution_count": null,
   "metadata": {},
   "outputs": [],
   "source": [
    "os.makedirs(\"data/models/\", exist_ok=True)\n",
    "model_name = \"my_first_model.pt\"\n",
    "model_pt = \"data/models/\" + model_name\n",
    "\n",
    "torch.save(model.state_dict(), model_pt)\n",
    "print(\"Saved PyTorch Model State to model.pt\")"
   ]
  },
  {
   "cell_type": "markdown",
   "metadata": {},
   "source": [
    "`model = torch.load(PATH)`\n",
    "\n",
    "`model.eval()`"
   ]
  },
  {
   "cell_type": "code",
   "execution_count": null,
   "metadata": {},
   "outputs": [],
   "source": [
    "model = NeuralNetwork()\n",
    "model.load_state_dict(torch.load(model_pt))\n",
    "print(\"model loaded correctly!\")"
   ]
  },
  {
   "cell_type": "code",
   "execution_count": null,
   "metadata": {},
   "outputs": [],
   "source": [
    "classes = [\n",
    "    \"T-shirt/top\",\n",
    "    \"Trouser\",\n",
    "    \"Pullover\",\n",
    "    \"Dress\",\n",
    "    \"Coat\",\n",
    "    \"Sandal\",\n",
    "    \"Shirt\",\n",
    "    \"Sneaker\",\n",
    "    \"Bag\",\n",
    "    \"Ankle boot\",\n",
    "]\n",
    "\n",
    "x, y = test_data[0][0], test_data[0][1]\n",
    "with torch.no_grad():\n",
    "  pred = model(x)\n",
    "  predicted, actual = classes[pred[0].argmax(0)], classes[y]\n",
    "  print(f\"Predicted: '{predicted}' Actual: '{actual}'\")"
   ]
  },
  {
   "cell_type": "code",
   "execution_count": null,
   "metadata": {},
   "outputs": [],
   "source": [
    "torch.save({\n",
    "    'epoch': epochs,\n",
    "    'modelo_state_dict': model.state_dict(),\n",
    "    'optimizador_state_dict': optimizer.state_dict(),\n",
    "    'loss': loss_fn\n",
    "}, \"modelo.pt\")"
   ]
  },
  {
   "cell_type": "code",
   "execution_count": null,
   "metadata": {},
   "outputs": [],
   "source": [
    "checkpoint = torch.load(\"modelo.pt\")\n",
    "modelo_cargado = NeuralNetwork()\n",
    "modelo_cargado.load_state_dict(checkpoint['modelo_state_dict'])\n",
    "modelo_cargado.eval() \n",
    "optimizer.load_state_dict(checkpoint['optimizador_state_dict'])\n",
    "epoch_cargada = checkpoint['epoch']\n",
    "loss_cargada = checkpoint['loss']\n"
   ]
  },
  {
   "cell_type": "markdown",
   "metadata": {},
   "source": [
    "Continuando el entrenamiento "
   ]
  },
  {
   "cell_type": "code",
   "execution_count": null,
   "metadata": {},
   "outputs": [],
   "source": [
    "checkpoint = torch.load(\"modelo.pt\")\n",
    "model = NeuralNetwork().to(device)\n",
    "model.load_state_dict(checkpoint['modelo_state_dict'])\n",
    "optimizer = torch.optim.SGD(model.parameters(), lr=1e-3)\n",
    "optimizer.load_state_dict(checkpoint['optimizador_state_dict'])\n",
    "start_epoch = checkpoint['epoch']\n",
    "loss = checkpoint['loss']\n",
    "\n",
    "\n",
    "for i in range(start_epoch,start_epoch+5):\n",
    "  print(f\"Epoch {1+i}\\n ---------------------------\")\n",
    "  training(model, train_dataloader, loss_fn, optimizer)\n",
    "  test(model, test_dataloader, loss_fn)\n",
    "  \n",
    "print(\"done\")"
   ]
  }
 ],
 "metadata": {
  "kernelspec": {
   "display_name": "Python 3",
   "language": "python",
   "name": "python3"
  },
  "language_info": {
   "codemirror_mode": {
    "name": "ipython",
    "version": 3
   },
   "file_extension": ".py",
   "mimetype": "text/x-python",
   "name": "python",
   "nbconvert_exporter": "python",
   "pygments_lexer": "ipython3",
   "version": "3.11.2"
  },
  "orig_nbformat": 4
 },
 "nbformat": 4,
 "nbformat_minor": 2
}
