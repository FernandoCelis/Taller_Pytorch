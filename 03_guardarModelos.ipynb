{
 "cells": [
  {
   "cell_type": "markdown",
   "metadata": {},
   "source": [
    "### Salvar y guardar modelos en Pytorch"
   ]
  },
  {
   "cell_type": "markdown",
   "metadata": {},
   "source": [
    "Cuando se trata de guardar y cargar modelos, hay tres funciones básicas con las que debe estar familiarizado:\n",
    "\n",
    "`torch.save`: Guarda un objeto serializado en el disco. Esta función utiliza la utilidad pickle de Python para la serialización. Con esta función se pueden guardar modelos, tensores y diccionarios de todo tipo de objetos.\n",
    "\n",
    "`torch.load`: Permite cargar y restaurar tensores, modelos, optimizadores y otros objetos de PyTorch desde archivos guardados en disco.\n",
    "\n",
    "`torch.nn.Module.load_state_dict`: Carga el diccionario de parámetros de un modelo utilizando un state_dict deserializado."
   ]
  },
  {
   "cell_type": "code",
   "execution_count": 10,
   "metadata": {},
   "outputs": [],
   "source": [
    "import torch\n",
    "from torch import nn\n",
    "from torch.utils.data import DataLoader\n",
    "from torchvision import datasets \n",
    "from torchvision.transforms import ToTensor\n",
    "import matplotlib.pyplot as plt\n",
    "import shutil#shell utils\n",
    "import numpy as np\n",
    "import os"
   ]
  },
  {
   "cell_type": "code",
   "execution_count": 2,
   "metadata": {},
   "outputs": [
    {
     "name": "stdout",
     "output_type": "stream",
     "text": [
      "Amount of training data: 60000, and test data: 10000\n"
     ]
    }
   ],
   "source": [
    "# Download training data from open datasets.\n",
    "training_data = datasets.FashionMNIST(\n",
    "    root=\"data\",\n",
    "    train=True,\n",
    "    download=True,\n",
    "    transform=ToTensor(),\n",
    ")\n",
    "\n",
    "# Download test data from open datasets.\n",
    "test_data = datasets.FashionMNIST(\n",
    "    root=\"data\",\n",
    "    train=False,\n",
    "    download=True,\n",
    "    transform=ToTensor(),\n",
    ")\n",
    "\n",
    "\n",
    "print(f\"Amount of training data: {len(training_data.targets)}, and test data: {len(test_data.targets)}\")\n",
    "\n",
    "batch_size = 64\n",
    "train_dataloader = DataLoader(training_data, batch_size=batch_size)\n",
    "test_dataloader = DataLoader(test_data, batch_size=batch_size)"
   ]
  },
  {
   "cell_type": "code",
   "execution_count": 3,
   "metadata": {},
   "outputs": [
    {
     "data": {
      "image/png": "[encoded data removed]",
      "text/plain": [
       "<Figure size 800x800 with 9 Axes>"
      ]
     },
     "metadata": {},
     "output_type": "display_data"
    }
   ],
   "source": [
    "labels_map = {\n",
    "    0: \"T-Shirt\",\n",
    "    1: \"Trouser\",\n",
    "    2: \"Pullover\",\n",
    "    3: \"Dress\",\n",
    "    4: \"Coat\",\n",
    "    5: \"Sandal\",\n",
    "    6: \"Shirt\",\n",
    "    7: \"Sneaker\",\n",
    "    8: \"Bag\",\n",
    "    9: \"Ankle Boot\",\n",
    "}\n",
    "figure = plt.figure(figsize=(8, 8))\n",
    "cols, rows = 3, 3\n",
    "for i in range(1, cols * rows + 1):\n",
    "    sample_idx = torch.randint(len(training_data), size=(1,)).item()\n",
    "    img, label = training_data[sample_idx]\n",
    "    figure.add_subplot(rows, cols, i)\n",
    "    plt.title(labels_map[label])\n",
    "    plt.axis(\"off\")\n",
    "    plt.imshow(img.squeeze(), cmap=\"gray\")\n",
    "plt.show()"
   ]
  },
  {
   "cell_type": "code",
   "execution_count": 3,
   "metadata": {},
   "outputs": [
    {
     "name": "stdout",
     "output_type": "stream",
     "text": [
      "Running on: cpu device\n"
     ]
    }
   ],
   "source": [
    "device = \"cuda\" if torch.cuda.is_available() else \"cpu\"\n",
    "print(f\"Running on: {device} device\")\n",
    "\n",
    "#Defining the model\n",
    "class NeuralNetwork(nn.Module):\n",
    "  def __init__(self):\n",
    "    super(NeuralNetwork, self).__init__()\n",
    "    self.flatten = nn.Flatten()\n",
    "    self.linear_relu_stack = nn.Sequential(nn.Linear(in_features=28*28, out_features=512),\n",
    "                                           nn.ReLU(),\n",
    "                                           nn.Linear(512, 512),\n",
    "                                           nn.ReLU(),\n",
    "                                           nn.Linear(512, 10))\n",
    "    \n",
    "  def forward(self, x):\n",
    "    x = self.flatten(x)\n",
    "    logits = self.linear_relu_stack(x)\n",
    "    return logits"
   ]
  },
  {
   "cell_type": "code",
   "execution_count": 26,
   "metadata": {},
   "outputs": [
    {
     "name": "stdout",
     "output_type": "stream",
     "text": [
      "NeuralNetwork(\n",
      "  (flatten): Flatten(start_dim=1, end_dim=-1)\n",
      "  (linear_relu_stack): Sequential(\n",
      "    (0): Linear(in_features=784, out_features=512, bias=True)\n",
      "    (1): ReLU()\n",
      "    (2): Linear(in_features=512, out_features=512, bias=True)\n",
      "    (3): ReLU()\n",
      "    (4): Linear(in_features=512, out_features=10, bias=True)\n",
      "  )\n",
      ")\n"
     ]
    }
   ],
   "source": [
    "model = NeuralNetwork().to(device)\n",
    "print(model)\n",
    "loss_fn = nn.CrossEntropyLoss()\n",
    "optimizer = torch.optim.SGD(model.parameters(), lr=1e-3)\n",
    "\n",
    "#training \n",
    "def training(model, dataloader, loss_fn, optimizer):\n",
    "  size = len(dataloader.dataset)#actual dataset size\n",
    "  model.train()\n",
    "  for batch_id, (X, y) in enumerate(dataloader):\n",
    "    X, y = X.to(device), y.to(device)\n",
    "    \n",
    "    #getting the class predictions\n",
    "    pred = model(X)\n",
    "    #computing the loss\n",
    "    loss = loss_fn(pred, y)\n",
    "\n",
    "    # weights update\n",
    "    optimizer.zero_grad() # to \"clean\" the gradients memory\n",
    "    loss.backward() # chain rule \n",
    "    optimizer.step() # weights updating\n",
    "\n",
    "    if batch_id % 100 == 0:\n",
    "      loss, current_sample = loss.item(), batch_id*len(X)\n",
    "      print(f\"loss: {loss:>3f} [{current_sample:>5d}/{size:>5d}]\")\n",
    "\n",
    "#test loop\n",
    "def test(model, dataloader, loss_fn):\n",
    "  size = len(dataloader.dataset)#amount of available data\n",
    "  num_batches = len(dataloader) \n",
    "  model.eval()#avoid the model learning\n",
    "  test_loss, correct = 0, 0\n",
    "  # no gradients calculation\n",
    "  with torch.no_grad():\n",
    "    for X, y in dataloader:\n",
    "      X, y = X.to(device), y.to(device)\n",
    "      #get the predictions\n",
    "      pred = model(X)\n",
    "      #computing the loss \n",
    "      test_loss += loss_fn(pred, y).item() #Returns the value of this tensor as a standard Python number\n",
    "      correct += (pred.argmax(1)==y).type(torch.float).sum().item()\n",
    "  \n",
    "  test_loss /= num_batches\n",
    "  correct /= size\n",
    "  acc = 100*correct\n",
    "  print(f\"Test error: \\n Acc: {(acc):>0.1f}%, avg loss: {test_loss:>8f}\\n\")\n"
   ]
  },
  {
   "cell_type": "code",
   "execution_count": 5,
   "metadata": {},
   "outputs": [
    {
     "name": "stdout",
     "output_type": "stream",
     "text": [
      "Epoch 1\n",
      " ---------------------------\n",
      "loss: 2.296450 [    0/60000]\n",
      "loss: 2.286823 [ 6400/60000]\n",
      "loss: 2.271200 [12800/60000]\n",
      "loss: 2.269723 [19200/60000]\n",
      "loss: 2.264821 [25600/60000]\n",
      "loss: 2.230694 [32000/60000]\n",
      "loss: 2.243046 [38400/60000]\n",
      "loss: 2.213334 [44800/60000]\n",
      "loss: 2.213924 [51200/60000]\n",
      "loss: 2.185592 [57600/60000]\n",
      "Test error: \n",
      " Acc: 35.8%, avg loss: 2.179784\n",
      "\n",
      "Epoch 2\n",
      " ---------------------------\n",
      "loss: 2.182722 [    0/60000]\n",
      "loss: 2.175990 [ 6400/60000]\n",
      "loss: 2.130765 [12800/60000]\n",
      "loss: 2.143930 [19200/60000]\n",
      "loss: 2.115155 [25600/60000]\n",
      "loss: 2.049794 [32000/60000]\n",
      "loss: 2.082120 [38400/60000]\n",
      "loss: 2.016186 [44800/60000]\n",
      "loss: 2.020479 [51200/60000]\n",
      "loss: 1.950559 [57600/60000]\n",
      "Test error: \n",
      " Acc: 56.1%, avg loss: 1.952666\n",
      "\n",
      "Epoch 3\n",
      " ---------------------------\n",
      "loss: 1.972815 [    0/60000]\n",
      "loss: 1.949125 [ 6400/60000]\n",
      "loss: 1.853027 [12800/60000]\n",
      "loss: 1.881695 [19200/60000]\n",
      "loss: 1.792165 [25600/60000]\n",
      "loss: 1.728647 [32000/60000]\n",
      "loss: 1.753228 [38400/60000]\n",
      "loss: 1.660386 [44800/60000]\n",
      "loss: 1.677066 [51200/60000]\n",
      "loss: 1.570470 [57600/60000]\n",
      "Test error: \n",
      " Acc: 61.8%, avg loss: 1.589417\n",
      "\n",
      "Epoch 4\n",
      " ---------------------------\n",
      "loss: 1.639708 [    0/60000]\n",
      "loss: 1.607183 [ 6400/60000]\n",
      "loss: 1.470213 [12800/60000]\n",
      "loss: 1.527853 [19200/60000]\n",
      "loss: 1.420002 [25600/60000]\n",
      "loss: 1.401031 [32000/60000]\n",
      "loss: 1.417454 [38400/60000]\n",
      "loss: 1.344783 [44800/60000]\n",
      "loss: 1.372266 [51200/60000]\n",
      "loss: 1.271514 [57600/60000]\n",
      "Test error: \n",
      " Acc: 63.5%, avg loss: 1.297216\n",
      "\n",
      "Epoch 5\n",
      " ---------------------------\n",
      "loss: 1.362424 [    0/60000]\n",
      "loss: 1.346136 [ 6400/60000]\n",
      "loss: 1.190450 [12800/60000]\n",
      "loss: 1.282994 [19200/60000]\n",
      "loss: 1.170257 [25600/60000]\n",
      "loss: 1.185345 [32000/60000]\n",
      "loss: 1.207308 [38400/60000]\n",
      "loss: 1.148237 [44800/60000]\n",
      "loss: 1.181807 [51200/60000]\n",
      "loss: 1.095827 [57600/60000]\n",
      "Test error: \n",
      " Acc: 64.6%, avg loss: 1.115816\n",
      "\n",
      "done\n"
     ]
    }
   ],
   "source": [
    "epochs = 5\n",
    "for i in range(epochs):\n",
    "  print(f\"Epoch {i+1}\\n ---------------------------\")\n",
    "  training(model, train_dataloader, loss_fn, optimizer)\n",
    "  test(model, test_dataloader, loss_fn)\n",
    "print(\"done\")"
   ]
  },
  {
   "cell_type": "code",
   "execution_count": 10,
   "metadata": {},
   "outputs": [
    {
     "data": {
      "text/plain": [
       "OrderedDict([('linear_relu_stack.0.weight',\n",
       "              tensor([[-0.0092,  0.0186, -0.0288,  ..., -0.0071, -0.0288, -0.0078],\n",
       "                      [ 0.0058,  0.0168,  0.0301,  ..., -0.0227, -0.0224,  0.0219],\n",
       "                      [-0.0300, -0.0265, -0.0214,  ...,  0.0284, -0.0175, -0.0153],\n",
       "                      ...,\n",
       "                      [-0.0160, -0.0056,  0.0088,  ..., -0.0286, -0.0199, -0.0343],\n",
       "                      [ 0.0090, -0.0058,  0.0275,  ...,  0.0289,  0.0015,  0.0122],\n",
       "                      [ 0.0102,  0.0336,  0.0330,  ..., -0.0191,  0.0301,  0.0144]])),\n",
       "             ('linear_relu_stack.0.bias',\n",
       "              tensor([-0.0250,  0.0255, -0.0083, -0.0106,  0.0243, -0.0036,  0.0027, -0.0044,\n",
       "                       0.0283, -0.0354,  0.0001,  0.0186,  0.0297, -0.0167,  0.0308, -0.0155,\n",
       "                      -0.0259,  0.0176, -0.0264, -0.0093, -0.0293,  0.0154,  0.0358,  0.0322,\n",
       "                      -0.0343,  0.0049, -0.0096, -0.0055,  0.0431, -0.0185, -0.0129,  0.0270,\n",
       "                       0.0389, -0.0111, -0.0133, -0.0259, -0.0181,  0.0089,  0.0007,  0.0006,\n",
       "                       0.0215,  0.0019, -0.0349, -0.0130,  0.0363, -0.0347, -0.0059, -0.0110,\n",
       "                       0.0398, -0.0222,  0.0223,  0.0213, -0.0155, -0.0213,  0.0099, -0.0131,\n",
       "                       0.0035,  0.0001,  0.0161,  0.0126,  0.0284, -0.0319,  0.0053,  0.0386,\n",
       "                       0.0378,  0.0067, -0.0232,  0.0206,  0.0300,  0.0274,  0.0345, -0.0208,\n",
       "                       0.0212, -0.0053,  0.0253, -0.0217,  0.0001,  0.0119,  0.0333,  0.0308,\n",
       "                       0.0121,  0.0164,  0.0017,  0.0016,  0.0227,  0.0242,  0.0121, -0.0058,\n",
       "                       0.0108,  0.0099, -0.0037,  0.0008,  0.0168,  0.0366,  0.0464, -0.0036,\n",
       "                      -0.0035,  0.0040, -0.0165,  0.0366,  0.0323,  0.0134, -0.0235,  0.0070,\n",
       "                      -0.0008,  0.0129,  0.0219, -0.0090,  0.0087,  0.0063, -0.0263, -0.0160,\n",
       "                       0.0035, -0.0054,  0.0108, -0.0014, -0.0003,  0.0063,  0.0073,  0.0150,\n",
       "                       0.0231,  0.0248,  0.0239, -0.0083, -0.0083,  0.0171, -0.0104, -0.0244,\n",
       "                      -0.0128,  0.0373,  0.0212,  0.0257, -0.0255,  0.0168, -0.0155, -0.0338,\n",
       "                       0.0276, -0.0127, -0.0002, -0.0032, -0.0223, -0.0305,  0.0382, -0.0218,\n",
       "                       0.0068, -0.0184, -0.0005,  0.0017,  0.0187, -0.0176, -0.0170,  0.0081,\n",
       "                       0.0187, -0.0244,  0.0318, -0.0292, -0.0044,  0.0134, -0.0087, -0.0081,\n",
       "                       0.0236,  0.0242, -0.0227,  0.0051, -0.0037,  0.0317, -0.0006, -0.0093,\n",
       "                       0.0148,  0.0216, -0.0274, -0.0272,  0.0124,  0.0233,  0.0312,  0.0233,\n",
       "                      -0.0275, -0.0283, -0.0312,  0.0055,  0.0406,  0.0025, -0.0115, -0.0083,\n",
       "                       0.0147, -0.0258, -0.0325, -0.0123,  0.0023,  0.0075,  0.0287,  0.0324,\n",
       "                       0.0194, -0.0075, -0.0239,  0.0149,  0.0223,  0.0014,  0.0043, -0.0286,\n",
       "                      -0.0046, -0.0293, -0.0233,  0.0151,  0.0353,  0.0460,  0.0350,  0.0380,\n",
       "                       0.0269, -0.0148, -0.0194, -0.0191,  0.0249, -0.0331,  0.0374,  0.0278,\n",
       "                       0.0069, -0.0021,  0.0331, -0.0191, -0.0093, -0.0160, -0.0098,  0.0022,\n",
       "                      -0.0177,  0.0220,  0.0352,  0.0276,  0.0182, -0.0032, -0.0268,  0.0384,\n",
       "                       0.0197,  0.0131, -0.0126,  0.0351, -0.0293,  0.0277, -0.0088,  0.0287,\n",
       "                      -0.0169,  0.0022, -0.0241, -0.0150,  0.0071, -0.0310,  0.0282,  0.0301,\n",
       "                       0.0376,  0.0307, -0.0017,  0.0369,  0.0393, -0.0052, -0.0080,  0.0005,\n",
       "                       0.0276,  0.0260, -0.0112,  0.0045,  0.0326,  0.0195,  0.0328, -0.0255,\n",
       "                       0.0300, -0.0316, -0.0242, -0.0231, -0.0103, -0.0098, -0.0107,  0.0069,\n",
       "                       0.0214,  0.0221, -0.0231,  0.0037,  0.0076, -0.0313, -0.0214,  0.0097,\n",
       "                       0.0209,  0.0311, -0.0176, -0.0085,  0.0318,  0.0393, -0.0115,  0.0363,\n",
       "                       0.0352, -0.0230,  0.0156,  0.0003,  0.0027,  0.0342,  0.0229, -0.0313,\n",
       "                       0.0319, -0.0264,  0.0136,  0.0073, -0.0123,  0.0171, -0.0103,  0.0066,\n",
       "                       0.0048,  0.0056, -0.0145,  0.0220,  0.0104,  0.0333,  0.0380, -0.0164,\n",
       "                      -0.0056, -0.0039,  0.0223, -0.0315, -0.0061, -0.0306,  0.0304, -0.0120,\n",
       "                      -0.0291,  0.0123,  0.0307, -0.0088,  0.0043, -0.0123, -0.0115,  0.0205,\n",
       "                       0.0133,  0.0197,  0.0254,  0.0097,  0.0106, -0.0120,  0.0144,  0.0305,\n",
       "                       0.0273,  0.0012,  0.0180,  0.0059,  0.0063,  0.0114,  0.0077,  0.0173,\n",
       "                      -0.0267, -0.0046, -0.0048,  0.0033, -0.0169, -0.0020, -0.0195, -0.0138,\n",
       "                       0.0252, -0.0234, -0.0024,  0.0068,  0.0488, -0.0063,  0.0004, -0.0138,\n",
       "                       0.0003, -0.0055,  0.0077,  0.0039, -0.0160,  0.0150, -0.0119,  0.0291,\n",
       "                      -0.0208, -0.0161, -0.0107, -0.0327, -0.0134, -0.0260,  0.0256,  0.0012,\n",
       "                       0.0275,  0.0059, -0.0129,  0.0415,  0.0038, -0.0112,  0.0445,  0.0157,\n",
       "                      -0.0063, -0.0184,  0.0196,  0.0379, -0.0114,  0.0213,  0.0145,  0.0360,\n",
       "                       0.0374,  0.0308,  0.0127, -0.0312,  0.0006, -0.0178, -0.0258,  0.0238,\n",
       "                      -0.0263,  0.0271, -0.0131, -0.0173,  0.0050, -0.0229,  0.0148,  0.0279,\n",
       "                       0.0370,  0.0054, -0.0280, -0.0179,  0.0162, -0.0140,  0.0408,  0.0082,\n",
       "                       0.0304,  0.0284, -0.0154,  0.0199,  0.0222,  0.0230, -0.0245,  0.0177,\n",
       "                       0.0329,  0.0091,  0.0012, -0.0065,  0.0001, -0.0082,  0.0306,  0.0021,\n",
       "                       0.0091,  0.0032, -0.0038,  0.0286,  0.0068,  0.0311,  0.0075,  0.0289,\n",
       "                      -0.0204, -0.0037,  0.0389,  0.0187,  0.0044, -0.0251,  0.0085, -0.0201,\n",
       "                      -0.0111,  0.0017, -0.0273,  0.0056,  0.0252, -0.0196, -0.0257,  0.0319,\n",
       "                       0.0023, -0.0213,  0.0267, -0.0140,  0.0230, -0.0013,  0.0053,  0.0391,\n",
       "                       0.0288, -0.0032,  0.0157, -0.0162,  0.0302, -0.0213,  0.0075, -0.0140,\n",
       "                       0.0146,  0.0280,  0.0146,  0.0262,  0.0048,  0.0280,  0.0174,  0.0122,\n",
       "                      -0.0155,  0.0326,  0.0117, -0.0195,  0.0120,  0.0439,  0.0380, -0.0307,\n",
       "                      -0.0067,  0.0145, -0.0295, -0.0093, -0.0059, -0.0061,  0.0019, -0.0276,\n",
       "                      -0.0010,  0.0008,  0.0013, -0.0212,  0.0166, -0.0222,  0.0210, -0.0328,\n",
       "                       0.0257,  0.0258, -0.0068,  0.0072,  0.0107, -0.0304, -0.0010,  0.0009])),\n",
       "             ('linear_relu_stack.2.weight',\n",
       "              tensor([[-0.0096,  0.0013,  0.0233,  ..., -0.0390,  0.0346, -0.0324],\n",
       "                      [ 0.0035, -0.0149,  0.0365,  ...,  0.0426, -0.0329, -0.0086],\n",
       "                      [ 0.0323,  0.0366,  0.0405,  ..., -0.0107, -0.0187,  0.0119],\n",
       "                      ...,\n",
       "                      [-0.0182, -0.0366,  0.0069,  ..., -0.0020, -0.0091, -0.0044],\n",
       "                      [ 0.0072, -0.0247,  0.0087,  ...,  0.0048,  0.0117,  0.0193],\n",
       "                      [ 0.0206, -0.0384, -0.0046,  ...,  0.0328,  0.0455,  0.0140]])),\n",
       "             ('linear_relu_stack.2.bias',\n",
       "              tensor([-0.0376, -0.0149,  0.0389,  0.0261,  0.0482, -0.0363, -0.0175,  0.0390,\n",
       "                       0.0083, -0.0171,  0.0045,  0.0419,  0.0342,  0.0103,  0.0517, -0.0081,\n",
       "                       0.0086,  0.0152,  0.0130,  0.0153, -0.0350,  0.0294,  0.0152, -0.0272,\n",
       "                       0.0403,  0.0346, -0.0174,  0.0381, -0.0021, -0.0016, -0.0328,  0.0425,\n",
       "                       0.0389,  0.0146, -0.0284, -0.0224, -0.0287,  0.0260,  0.0020,  0.0384,\n",
       "                       0.0006,  0.0179, -0.0349,  0.0318,  0.0421,  0.0336,  0.0002,  0.0365,\n",
       "                       0.0024,  0.0182, -0.0049, -0.0049, -0.0048, -0.0281,  0.0141,  0.0212,\n",
       "                      -0.0411, -0.0176, -0.0144,  0.0234, -0.0192,  0.0081,  0.0173, -0.0006,\n",
       "                       0.0403, -0.0057,  0.0237, -0.0257,  0.0056,  0.0260,  0.0455,  0.0375,\n",
       "                       0.0044,  0.0421,  0.0061,  0.0516,  0.0285,  0.0237, -0.0233,  0.0188,\n",
       "                      -0.0112,  0.0154,  0.0163,  0.0037,  0.0040,  0.0253, -0.0408,  0.0033,\n",
       "                      -0.0286, -0.0163, -0.0259,  0.0133,  0.0089,  0.0281,  0.0130, -0.0017,\n",
       "                      -0.0371, -0.0296,  0.0450,  0.0128,  0.0269,  0.0346, -0.0346, -0.0014,\n",
       "                      -0.0133, -0.0076, -0.0008,  0.0317, -0.0138, -0.0129,  0.0259,  0.0025,\n",
       "                      -0.0249, -0.0325,  0.0326,  0.0294, -0.0115,  0.0098, -0.0057, -0.0130,\n",
       "                      -0.0045, -0.0402, -0.0006,  0.0373,  0.0259,  0.0079, -0.0277,  0.0038,\n",
       "                      -0.0142,  0.0335, -0.0135,  0.0260, -0.0284, -0.0269, -0.0349,  0.0121,\n",
       "                       0.0302, -0.0134, -0.0067,  0.0159, -0.0084,  0.0105,  0.0126,  0.0411,\n",
       "                       0.0361,  0.0503,  0.0411,  0.0046,  0.0107, -0.0143, -0.0395,  0.0175,\n",
       "                       0.0261,  0.0437, -0.0009,  0.0256,  0.0227,  0.0247,  0.0012, -0.0303,\n",
       "                       0.0360,  0.0353,  0.0056,  0.0434, -0.0068, -0.0159,  0.0054,  0.0225,\n",
       "                       0.0239,  0.0219,  0.0157,  0.0136,  0.0250, -0.0059, -0.0392,  0.0368,\n",
       "                      -0.0004, -0.0192,  0.0094,  0.0205,  0.0280, -0.0059,  0.0069,  0.0135,\n",
       "                      -0.0027, -0.0003,  0.0146,  0.0481, -0.0349,  0.0136,  0.0480, -0.0125,\n",
       "                      -0.0286,  0.0153,  0.0231, -0.0265, -0.0216, -0.0132,  0.0465,  0.0136,\n",
       "                      -0.0188,  0.0071,  0.0256,  0.0520,  0.0380,  0.0343, -0.0191, -0.0062,\n",
       "                      -0.0284,  0.0567, -0.0315,  0.0009,  0.0519,  0.0585, -0.0173, -0.0087,\n",
       "                       0.0036, -0.0138, -0.0151, -0.0044, -0.0348,  0.0273,  0.0410,  0.0154,\n",
       "                       0.0411,  0.0017, -0.0024,  0.0070,  0.0640,  0.0373, -0.0186, -0.0005,\n",
       "                       0.0117,  0.0395,  0.0075, -0.0066,  0.0344,  0.0257,  0.0334,  0.0076,\n",
       "                       0.0587,  0.0335, -0.0075,  0.0273, -0.0175, -0.0066, -0.0172, -0.0334,\n",
       "                       0.0304, -0.0267, -0.0211,  0.0048, -0.0077, -0.0004, -0.0423, -0.0097,\n",
       "                      -0.0337,  0.0346, -0.0295,  0.0075,  0.0196,  0.0222,  0.0060,  0.0286,\n",
       "                      -0.0343, -0.0248,  0.0210,  0.0147, -0.0040,  0.0251, -0.0378,  0.0138,\n",
       "                       0.0471, -0.0151, -0.0426, -0.0156,  0.0409,  0.0242,  0.0099, -0.0287,\n",
       "                       0.0426, -0.0002, -0.0065,  0.0040,  0.0223,  0.0394,  0.0423,  0.0009,\n",
       "                       0.0360,  0.0247, -0.0012, -0.0319,  0.0323,  0.0152,  0.0002, -0.0090,\n",
       "                       0.0406,  0.0307,  0.0208,  0.0383,  0.0158,  0.0407,  0.0340,  0.0028,\n",
       "                       0.0235, -0.0217, -0.0030, -0.0345, -0.0135,  0.0440,  0.0321, -0.0404,\n",
       "                       0.0279, -0.0224,  0.0249, -0.0284,  0.0418,  0.0052,  0.0167,  0.0156,\n",
       "                      -0.0384, -0.0305,  0.0108,  0.0094, -0.0218, -0.0444, -0.0362, -0.0301,\n",
       "                       0.0432, -0.0117, -0.0418,  0.0039,  0.0142,  0.0248, -0.0297, -0.0060,\n",
       "                       0.0258,  0.0500, -0.0285,  0.0084,  0.0130, -0.0362, -0.0075, -0.0321,\n",
       "                       0.0368,  0.0076,  0.0373, -0.0223, -0.0294,  0.0140, -0.0306, -0.0109,\n",
       "                      -0.0138,  0.0330, -0.0004, -0.0371, -0.0255,  0.0004, -0.0187, -0.0353,\n",
       "                       0.0120,  0.0242,  0.0628,  0.0319, -0.0200,  0.0397,  0.0365,  0.0058,\n",
       "                       0.0131, -0.0165,  0.0170, -0.0036,  0.0582, -0.0228,  0.0312, -0.0129,\n",
       "                      -0.0201, -0.0098, -0.0037,  0.0085, -0.0424,  0.0048, -0.0279,  0.0167,\n",
       "                       0.0038, -0.0137,  0.0003, -0.0326,  0.0164, -0.0397,  0.0217, -0.0166,\n",
       "                      -0.0060,  0.0045,  0.0400, -0.0337, -0.0007,  0.0482, -0.0162, -0.0351,\n",
       "                      -0.0056,  0.0341, -0.0181, -0.0087,  0.0010,  0.0069,  0.0385, -0.0261,\n",
       "                       0.0243,  0.0681, -0.0206,  0.0465,  0.0194,  0.0260,  0.0069,  0.0447,\n",
       "                      -0.0109,  0.0337, -0.0415, -0.0122, -0.0320, -0.0118,  0.0226, -0.0121,\n",
       "                       0.0078,  0.0427,  0.0106,  0.0121, -0.0143, -0.0225, -0.0232, -0.0398,\n",
       "                      -0.0366,  0.0263, -0.0088,  0.0391,  0.0019, -0.0300,  0.0212, -0.0109,\n",
       "                       0.0159,  0.0147, -0.0328,  0.0450,  0.0341, -0.0219, -0.0333, -0.0159,\n",
       "                       0.0011, -0.0258,  0.0260,  0.0285, -0.0305, -0.0114,  0.0369, -0.0197,\n",
       "                       0.0218,  0.0035,  0.0412, -0.0006, -0.0034, -0.0368,  0.0104,  0.0390,\n",
       "                       0.0044, -0.0052, -0.0306, -0.0237,  0.0456,  0.0157,  0.0484, -0.0117,\n",
       "                       0.0002, -0.0390, -0.0411, -0.0281,  0.0270,  0.0074, -0.0190,  0.0504,\n",
       "                      -0.0192,  0.0289,  0.0155,  0.0166,  0.0007, -0.0114, -0.0202,  0.0154,\n",
       "                       0.0473, -0.0459, -0.0291,  0.0185, -0.0178, -0.0028,  0.0292,  0.0456,\n",
       "                      -0.0295, -0.0369,  0.0024, -0.0087, -0.0049,  0.0279,  0.0354, -0.0272,\n",
       "                      -0.0250, -0.0170, -0.0194, -0.0045, -0.0172,  0.0108, -0.0189, -0.0038])),\n",
       "             ('linear_relu_stack.4.weight',\n",
       "              tensor([[ 0.0276,  0.0063,  0.0108,  ...,  0.0245, -0.0008,  0.0568],\n",
       "                      [-0.0337, -0.0334, -0.0768,  ...,  0.0053, -0.0026, -0.0577],\n",
       "                      [ 0.0541, -0.0102, -0.0175,  ...,  0.0304, -0.0192,  0.0564],\n",
       "                      ...,\n",
       "                      [-0.0375, -0.0129,  0.0713,  ..., -0.0282, -0.0144,  0.0208],\n",
       "                      [ 0.0360, -0.0332,  0.0263,  ...,  0.0190,  0.0167, -0.0233],\n",
       "                      [ 0.0173, -0.0089,  0.0626,  ..., -0.0251,  0.0037,  0.0182]])),\n",
       "             ('linear_relu_stack.4.bias',\n",
       "              tensor([-0.0453,  0.0184, -0.0783,  0.0021, -0.0557,  0.1117,  0.0064,  0.0469,\n",
       "                      -0.0247, -0.0633]))])"
      ]
     },
     "execution_count": 10,
     "metadata": {},
     "output_type": "execute_result"
    }
   ],
   "source": [
    "model.state_dict()"
   ]
  },
  {
   "cell_type": "markdown",
   "metadata": {},
   "source": [
    "¿Qué es un estado_dict?\n",
    "En PyTorch, los parámetros aprendibles (es decir, pesos y sesgos) de un modelo torch.nn.Module están contenidos en los parámetros del modelo (a los que se accede con model.parameters()). Un state_dict es simplemente un objeto diccionario de Python que asigna cada capa a su tensor de parámetros. Tenga en cuenta que sólo las capas con parámetros aprendibles (capas convolucionales, capas lineales, etc.) tienen entradas en el state_dict del modelo. Los objetos optimizadores (torch.optim) también tienen un state_dict, que contiene información sobre el estado del optimizador, así como los hiperparámetros utilizados.\n",
    "\n",
    "Debido a que los objetos state_dict son diccionarios de Python, pueden ser fácilmente guardados, actualizados, alterados y restaurados, añadiendo una gran modularidad a los modelos y optimizadores de PyTorch.\n",
    "\n"
   ]
  },
  {
   "cell_type": "code",
   "execution_count": 9,
   "metadata": {},
   "outputs": [
    {
     "name": "stdout",
     "output_type": "stream",
     "text": [
      "Model's state_dict:\n",
      "linear_relu_stack.0.weight \t torch.Size([512, 784])\n",
      "linear_relu_stack.0.bias \t torch.Size([512])\n",
      "linear_relu_stack.2.weight \t torch.Size([512, 512])\n",
      "linear_relu_stack.2.bias \t torch.Size([512])\n",
      "linear_relu_stack.4.weight \t torch.Size([10, 512])\n",
      "linear_relu_stack.4.bias \t torch.Size([10])\n",
      "Optimizer's state_dict:\n",
      "state \t {0: {'momentum_buffer': None}, 1: {'momentum_buffer': None}, 2: {'momentum_buffer': None}, 3: {'momentum_buffer': None}, 4: {'momentum_buffer': None}, 5: {'momentum_buffer': None}}\n",
      "param_groups \t [{'lr': 0.001, 'momentum': 0, 'dampening': 0, 'weight_decay': 0, 'nesterov': False, 'maximize': False, 'foreach': None, 'differentiable': False, 'params': [0, 1, 2, 3, 4, 5]}]\n"
     ]
    }
   ],
   "source": [
    "print(\"Model's state_dict:\")\n",
    "for param_tensor in model.state_dict():\n",
    "    print(param_tensor, \"\\t\", model.state_dict()[param_tensor].size())\n",
    "\n",
    "# Print optimizer's state_dict\n",
    "print(\"Optimizer's state_dict:\")\n",
    "for var_name in optimizer.state_dict():\n",
    "    print(var_name, \"\\t\", optimizer.state_dict()[var_name])"
   ]
  },
  {
   "cell_type": "markdown",
   "metadata": {},
   "source": [
    "`torch.save(model, PATH)`"
   ]
  },
  {
   "cell_type": "code",
   "execution_count": 15,
   "metadata": {},
   "outputs": [
    {
     "name": "stdout",
     "output_type": "stream",
     "text": [
      "Saved PyTorch Model State to model.pt\n"
     ]
    }
   ],
   "source": [
    "os.makedirs(\"data/models/\", exist_ok=True)\n",
    "model_name = \"my_first_model.pt\"\n",
    "model_pt = \"data/models/\" + model_name\n",
    "\n",
    "torch.save(model.state_dict(), model_pt)\n",
    "print(\"Saved PyTorch Model State to model.pt\")"
   ]
  },
  {
   "cell_type": "markdown",
   "metadata": {},
   "source": [
    "`model = torch.load(PATH)`\n",
    "\n",
    "`model.eval()`"
   ]
  },
  {
   "cell_type": "code",
   "execution_count": null,
   "metadata": {},
   "outputs": [],
   "source": [
    "model = NeuralNetwork()\n",
    "model.load_state_dict(torch.load(model_pt))\n",
    "print(\"model loaded correctly!\")"
   ]
  },
  {
   "cell_type": "code",
   "execution_count": 19,
   "metadata": {},
   "outputs": [
    {
     "name": "stdout",
     "output_type": "stream",
     "text": [
      "Predicted: 'Pullover' Actual: 'Pullover'\n"
     ]
    }
   ],
   "source": [
    "classes = [\n",
    "    \"T-shirt/top\",\n",
    "    \"Trouser\",\n",
    "    \"Pullover\",\n",
    "    \"Dress\",\n",
    "    \"Coat\",\n",
    "    \"Sandal\",\n",
    "    \"Shirt\",\n",
    "    \"Sneaker\",\n",
    "    \"Bag\",\n",
    "    \"Ankle boot\",\n",
    "]\n",
    "\n",
    "x, y = test_data[1][0], test_data[1][1]\n",
    "with torch.no_grad():\n",
    "  pred = model(x)\n",
    "  predicted, actual = classes[pred[0].argmax(0)], classes[y]\n",
    "  print(f\"Predicted: '{predicted}' Actual: '{actual}'\")"
   ]
  },
  {
   "cell_type": "code",
   "execution_count": 20,
   "metadata": {},
   "outputs": [],
   "source": [
    "torch.save({\n",
    "    'epoch': epochs,\n",
    "    'modelo_state_dict': model.state_dict(),\n",
    "    'optimizador_state_dict': optimizer.state_dict(),\n",
    "    'loss': loss_fn\n",
    "}, \"modelo.pt\")"
   ]
  },
  {
   "cell_type": "code",
   "execution_count": 22,
   "metadata": {},
   "outputs": [
    {
     "name": "stdout",
     "output_type": "stream",
     "text": [
      "CrossEntropyLoss()\n"
     ]
    }
   ],
   "source": [
    "checkpoint = torch.load(\"modelo.pt\")\n",
    "modelo_cargado = NeuralNetwork()\n",
    "modelo_cargado.load_state_dict(checkpoint['modelo_state_dict'])\n",
    "modelo_cargado.eval() \n",
    "optimizer.load_state_dict(checkpoint['optimizador_state_dict'])\n",
    "epoch_cargada = checkpoint['epoch']\n",
    "loss_cargada = checkpoint['loss']\n"
   ]
  },
  {
   "cell_type": "markdown",
   "metadata": {},
   "source": [
    "Continuando el entrenamiento "
   ]
  },
  {
   "cell_type": "code",
   "execution_count": 29,
   "metadata": {},
   "outputs": [
    {
     "name": "stdout",
     "output_type": "stream",
     "text": [
      "Epoch 6\n",
      " ---------------------------\n",
      "loss: 1.176014 [    0/60000]\n",
      "loss: 1.181037 [ 6400/60000]\n",
      "loss: 1.008877 [12800/60000]\n",
      "loss: 1.132295 [19200/60000]\n",
      "loss: 1.014747 [25600/60000]\n",
      "loss: 1.041423 [32000/60000]\n",
      "loss: 1.076947 [38400/60000]\n",
      "loss: 1.023299 [44800/60000]\n",
      "loss: 1.058626 [51200/60000]\n",
      "loss: 0.986244 [57600/60000]\n",
      "Test error: \n",
      " Acc: 65.9%, avg loss: 0.999278\n",
      "\n",
      "Epoch 7\n",
      " ---------------------------\n",
      "loss: 1.046636 [    0/60000]\n",
      "loss: 1.073650 [ 6400/60000]\n",
      "loss: 0.884803 [12800/60000]\n",
      "loss: 1.032922 [19200/60000]\n",
      "loss: 0.915700 [25600/60000]\n",
      "loss: 0.940358 [32000/60000]\n",
      "loss: 0.991169 [38400/60000]\n",
      "loss: 0.941460 [44800/60000]\n",
      "loss: 0.973715 [51200/60000]\n",
      "loss: 0.913399 [57600/60000]\n",
      "Test error: \n",
      " Acc: 67.3%, avg loss: 0.920115\n",
      "\n",
      "Epoch 8\n",
      " ---------------------------\n",
      "loss: 0.951513 [    0/60000]\n",
      "loss: 0.999244 [ 6400/60000]\n",
      "loss: 0.795884 [12800/60000]\n",
      "loss: 0.963479 [19200/60000]\n",
      "loss: 0.849574 [25600/60000]\n",
      "loss: 0.866801 [32000/60000]\n",
      "loss: 0.931565 [38400/60000]\n",
      "loss: 0.886477 [44800/60000]\n",
      "loss: 0.912882 [51200/60000]\n",
      "loss: 0.862088 [57600/60000]\n",
      "Test error: \n",
      " Acc: 68.7%, avg loss: 0.863649\n",
      "\n",
      "Epoch 9\n",
      " ---------------------------\n",
      "loss: 0.878575 [    0/60000]\n",
      "loss: 0.944219 [ 6400/60000]\n",
      "loss: 0.729907 [12800/60000]\n",
      "loss: 0.912618 [19200/60000]\n",
      "loss: 0.802870 [25600/60000]\n",
      "loss: 0.811852 [32000/60000]\n",
      "loss: 0.887401 [38400/60000]\n",
      "loss: 0.848189 [44800/60000]\n",
      "loss: 0.867919 [51200/60000]\n",
      "loss: 0.823709 [57600/60000]\n",
      "Test error: \n",
      " Acc: 70.1%, avg loss: 0.821413\n",
      "\n",
      "Epoch 10\n",
      " ---------------------------\n",
      "loss: 0.820797 [    0/60000]\n",
      "loss: 0.900846 [ 6400/60000]\n",
      "loss: 0.679090 [12800/60000]\n",
      "loss: 0.873772 [19200/60000]\n",
      "loss: 0.767948 [25600/60000]\n",
      "loss: 0.769737 [32000/60000]\n",
      "loss: 0.852236 [38400/60000]\n",
      "loss: 0.820004 [44800/60000]\n",
      "loss: 0.833231 [51200/60000]\n",
      "loss: 0.793284 [57600/60000]\n",
      "Test error: \n",
      " Acc: 71.2%, avg loss: 0.788218\n",
      "\n",
      "done\n"
     ]
    }
   ],
   "source": [
    "checkpoint = torch.load(\"modelo.pt\")\n",
    "model = NeuralNetwork().to(device)\n",
    "model.load_state_dict(checkpoint['modelo_state_dict'])\n",
    "optimizer = torch.optim.SGD(model.parameters(), lr=1e-3)\n",
    "optimizer.load_state_dict(checkpoint['optimizador_state_dict'])\n",
    "start_epoch = checkpoint['epoch']\n",
    "loss = checkpoint['loss']\n",
    "\n",
    "\n",
    "for i in range(start_epoch,start_epoch+5):\n",
    "  print(f\"Epoch {1+i}\\n ---------------------------\")\n",
    "  training(model, train_dataloader, loss_fn, optimizer)\n",
    "  test(model, test_dataloader, loss_fn)\n",
    "  \n",
    "print(\"done\")"
   ]
  }
 ],
 "metadata": {
  "kernelspec": {
   "display_name": "Python 3",
   "language": "python",
   "name": "python3"
  },
  "language_info": {
   "codemirror_mode": {
    "name": "ipython",
    "version": 3
   },
   "file_extension": ".py",
   "mimetype": "text/x-python",
   "name": "python",
   "nbconvert_exporter": "python",
   "pygments_lexer": "ipython3",
   "version": "3.11.2"
  },
  "orig_nbformat": 4
 },
 "nbformat": 4,
 "nbformat_minor": 2
}
